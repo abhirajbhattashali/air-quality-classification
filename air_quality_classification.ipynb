{
  "nbformat": 4,
  "nbformat_minor": 0,
  "metadata": {
    "colab": {
      "provenance": [],
      "gpuType": "V28",
      "authorship_tag": "ABX9TyMdmvBhDG3Wqzu2d4uSQ6bb",
      "include_colab_link": true
    },
    "kernelspec": {
      "name": "python3",
      "display_name": "Python 3"
    },
    "language_info": {
      "name": "python"
    },
    "accelerator": "TPU"
  },
  "cells": [
    {
      "cell_type": "markdown",
      "metadata": {
        "id": "view-in-github",
        "colab_type": "text"
      },
      "source": [
        "<a href=\"https://colab.research.google.com/github/abhirajbhattashali/air-quality-classification/blob/main/air_quality_classification.ipynb\" target=\"_parent\"><img src=\"https://colab.research.google.com/assets/colab-badge.svg\" alt=\"Open In Colab\"/></a>"
      ]
    },
    {
      "cell_type": "markdown",
      "source": [
        "AIR QUALITY CLASSIFICATION"
      ],
      "metadata": {
        "id": "P3klJZfVTjWw"
      }
    },
    {
      "cell_type": "code",
      "execution_count": 30,
      "metadata": {
        "id": "3rlBAC31-QZ1"
      },
      "outputs": [],
      "source": [
        "import tensorflow as tf"
      ]
    },
    {
      "cell_type": "code",
      "source": [
        "print(\"version\",tf.__version__)"
      ],
      "metadata": {
        "colab": {
          "base_uri": "https://localhost:8080/"
        },
        "id": "FFipVYzw-8Ln",
        "outputId": "57e360d8-db46-44d3-d6d4-994d60aa2e44"
      },
      "execution_count": 2,
      "outputs": [
        {
          "output_type": "stream",
          "name": "stdout",
          "text": [
            "version 2.17.0\n"
          ]
        }
      ]
    },
    {
      "cell_type": "code",
      "source": [
        "import pandas as pd\n",
        "data_train = pd.read_csv(\"air_quality_train.csv\")\n",
        "print(data_train.head())"
      ],
      "metadata": {
        "colab": {
          "base_uri": "https://localhost:8080/"
        },
        "id": "Pev7EvUhAS0c",
        "outputId": "a27c04b3-92bb-420c-c845-a2d4fe048fdd"
      },
      "execution_count": 80,
      "outputs": [
        {
          "output_type": "stream",
          "name": "stdout",
          "text": [
            "    PM2.5    PM10     NO    NO2    NOx    NH3     CO    SO2     O3  Benzene  \\\n",
            "0  206.14  334.21  61.02  63.70  89.54  42.99   1.76  24.75  35.84     5.45   \n",
            "1   53.71   60.15  11.02  13.43  20.48  19.11  10.19   3.21  22.08     0.91   \n",
            "2  187.82  300.92  28.91  60.61  57.94  50.60   1.16  25.08  83.99     1.56   \n",
            "3   50.64  132.94   9.56  37.51  11.09  26.41   0.16  17.73  50.11     0.22   \n",
            "4   27.98   79.71   2.79  18.31  12.10   8.01   0.51   8.71  34.54     0.19   \n",
            "\n",
            "   Toluene  Xylene    AQI   Air_Quality  \n",
            "0    42.52    0.71  342.0     Very Poor  \n",
            "1     3.45    0.69  226.0          Poor  \n",
            "2     6.80    0.08  362.0     Very Poor  \n",
            "3     2.27    0.26  161.0      Moderate  \n",
            "4     1.79    0.13   79.0  Satisfactory  \n"
          ]
        }
      ]
    },
    {
      "cell_type": "code",
      "source": [
        "print(data_train.info())"
      ],
      "metadata": {
        "colab": {
          "base_uri": "https://localhost:8080/"
        },
        "id": "-90nnd3zAqXa",
        "outputId": "564370e7-a92d-443b-c323-092b0be7030f"
      },
      "execution_count": 81,
      "outputs": [
        {
          "output_type": "stream",
          "name": "stdout",
          "text": [
            "<class 'pandas.core.frame.DataFrame'>\n",
            "RangeIndex: 7782 entries, 0 to 7781\n",
            "Data columns (total 14 columns):\n",
            " #   Column       Non-Null Count  Dtype  \n",
            "---  ------       --------------  -----  \n",
            " 0   PM2.5        7782 non-null   float64\n",
            " 1   PM10         7782 non-null   float64\n",
            " 2   NO           7782 non-null   float64\n",
            " 3   NO2          7782 non-null   float64\n",
            " 4   NOx          7782 non-null   float64\n",
            " 5   NH3          7782 non-null   float64\n",
            " 6   CO           7782 non-null   float64\n",
            " 7   SO2          7782 non-null   float64\n",
            " 8   O3           7782 non-null   float64\n",
            " 9   Benzene      7782 non-null   float64\n",
            " 10  Toluene      7782 non-null   float64\n",
            " 11  Xylene       7782 non-null   float64\n",
            " 12  AQI          7782 non-null   float64\n",
            " 13  Air_Quality  7782 non-null   object \n",
            "dtypes: float64(13), object(1)\n",
            "memory usage: 851.3+ KB\n",
            "None\n"
          ]
        }
      ]
    },
    {
      "cell_type": "code",
      "source": [
        "from collections import Counter\n",
        "print(Counter(data_train[\"Air_Quality\"]))"
      ],
      "metadata": {
        "colab": {
          "base_uri": "https://localhost:8080/"
        },
        "id": "ASEWhX5BA6Ea",
        "outputId": "3a44f02d-2a51-4f39-83f5-c11a2110fccc"
      },
      "execution_count": 82,
      "outputs": [
        {
          "output_type": "stream",
          "name": "stdout",
          "text": [
            "Counter({'Very Poor': 1297, 'Poor': 1297, 'Moderate': 1297, 'Satisfactory': 1297, 'Severe': 1297, 'Good': 1297})\n"
          ]
        }
      ]
    },
    {
      "cell_type": "code",
      "source": [
        "x_train = data_train.drop(\"Air_Quality\",axis=1)\n",
        "y_train = data_train[\"Air_Quality\"]\n",
        "print(y_train)"
      ],
      "metadata": {
        "colab": {
          "base_uri": "https://localhost:8080/"
        },
        "id": "OOHtIRy2BpN3",
        "outputId": "1cf8079e-3e65-408b-bdbc-6f277e748123"
      },
      "execution_count": 83,
      "outputs": [
        {
          "output_type": "stream",
          "name": "stdout",
          "text": [
            "0          Very Poor\n",
            "1               Poor\n",
            "2          Very Poor\n",
            "3           Moderate\n",
            "4       Satisfactory\n",
            "            ...     \n",
            "7777       Very Poor\n",
            "7778       Very Poor\n",
            "7779       Very Poor\n",
            "7780       Very Poor\n",
            "7781       Very Poor\n",
            "Name: Air_Quality, Length: 7782, dtype: object\n"
          ]
        }
      ]
    },
    {
      "cell_type": "code",
      "source": [],
      "metadata": {
        "colab": {
          "base_uri": "https://localhost:8080/"
        },
        "id": "x6nbQpIXENLY",
        "outputId": "3451ce99-2f23-4bbf-d521-96b02e556091"
      },
      "execution_count": 14,
      "outputs": [
        {
          "output_type": "stream",
          "name": "stdout",
          "text": [
            "[5 2 5 ... 5 5 5]\n",
            "           PM2.5        PM10         NO        NO2        NOx         NH3  \\\n",
            "0     206.140000  334.210000  61.020000  63.700000  89.540000   42.990000   \n",
            "1      53.710000   60.150000  11.020000  13.430000  20.480000   19.110000   \n",
            "2     187.820000  300.920000  28.910000  60.610000  57.940000   50.600000   \n",
            "3      50.640000  132.940000   9.560000  37.510000  11.090000   26.410000   \n",
            "4      27.980000   79.710000   2.790000  18.310000  12.100000    8.010000   \n",
            "...          ...         ...        ...        ...        ...         ...   \n",
            "7777  189.346033  334.046761  70.276313  79.262920  94.282870   54.578068   \n",
            "7778  204.472603  363.800933  36.495206  48.215971  69.787193  128.981714   \n",
            "7779  154.265913  185.219306  13.188052  30.409660  34.114471   54.994978   \n",
            "7780  147.984435  241.614560  38.356909  49.319008  61.933292   40.439629   \n",
            "7781  111.383228  188.431753  27.482605  10.009976  37.404188   13.044982   \n",
            "\n",
            "             CO        SO2         O3   Benzene    Toluene    Xylene  \\\n",
            "0      1.760000  24.750000  35.840000  5.450000  42.520000  0.710000   \n",
            "1     10.190000   3.210000  22.080000  0.910000   3.450000  0.690000   \n",
            "2      1.160000  25.080000  83.990000  1.560000   6.800000  0.080000   \n",
            "3      0.160000  17.730000  50.110000  0.220000   2.270000  0.260000   \n",
            "4      0.510000   8.710000  34.540000  0.190000   1.790000  0.130000   \n",
            "...         ...        ...        ...       ...        ...       ...   \n",
            "7777   1.551424  22.423648  87.026839  1.750655   6.899144  0.059644   \n",
            "7778   9.210564   5.388230  26.963844  8.052513  14.532411  4.052355   \n",
            "7779  10.351701   5.748532  29.648939  2.104676   5.209554  1.347918   \n",
            "7780   1.376954  14.279854  34.952317  4.540239  23.526402  1.039894   \n",
            "7781   0.470012  11.384677  16.998623  3.531461   4.211437  2.000000   \n",
            "\n",
            "             AQI  \n",
            "0     342.000000  \n",
            "1     226.000000  \n",
            "2     362.000000  \n",
            "3     161.000000  \n",
            "4      79.000000  \n",
            "...          ...  \n",
            "7777  361.236188  \n",
            "7778  357.380279  \n",
            "7779  336.170643  \n",
            "7780  310.327148  \n",
            "7781  309.667479  \n",
            "\n",
            "[7782 rows x 13 columns]\n"
          ]
        }
      ]
    },
    {
      "cell_type": "code",
      "source": [
        "test_data = pd.read_csv(\"air_quality_test.csv\")\n",
        "x_test = test_data.drop(\"Air_Quality\",axis=1)\n",
        "y_test = test_data[\"Air_Quality\"]"
      ],
      "metadata": {
        "id": "yl3uF2ZqCsba"
      },
      "execution_count": 84,
      "outputs": []
    },
    {
      "cell_type": "code",
      "source": [
        "from sklearn.preprocessing import LabelEncoder\n",
        "le = LabelEncoder()\n",
        "y_train = le.fit_transform(y_train.astype(str))\n",
        "y_test = le.transform(y_test.astype(str))\n"
      ],
      "metadata": {
        "id": "X6Bsqfn-Cap8"
      },
      "execution_count": 85,
      "outputs": []
    },
    {
      "cell_type": "code",
      "source": [
        "int_mapping = {l:i for i,l in enumerate(le.classes_)}\n",
        "print(int_mapping)"
      ],
      "metadata": {
        "colab": {
          "base_uri": "https://localhost:8080/"
        },
        "id": "Ab0TPPIeDIaV",
        "outputId": "7c0d04f7-f64a-4fbe-99fc-e4a34ea12901"
      },
      "execution_count": 86,
      "outputs": [
        {
          "output_type": "stream",
          "name": "stdout",
          "text": [
            "{'Good': 0, 'Moderate': 1, 'Poor': 2, 'Satisfactory': 3, 'Severe': 4, 'Very Poor': 5}\n"
          ]
        }
      ]
    },
    {
      "cell_type": "code",
      "source": [
        "y_train = tf.keras.utils.to_categorical(y_train)\n",
        "y_test = tf.keras.utils.to_categorical(y_test)"
      ],
      "metadata": {
        "id": "Sqaf4EbZEmAl"
      },
      "execution_count": 87,
      "outputs": []
    },
    {
      "cell_type": "code",
      "source": [
        "print(len(x_train))"
      ],
      "metadata": {
        "colab": {
          "base_uri": "https://localhost:8080/"
        },
        "id": "lZ1EdRHIGN2f",
        "outputId": "c928505d-cfca-4f09-aa33-9e784bc955f8"
      },
      "execution_count": 28,
      "outputs": [
        {
          "output_type": "stream",
          "name": "stdout",
          "text": [
            "7782\n"
          ]
        }
      ]
    },
    {
      "cell_type": "code",
      "source": [
        "#Model\n",
        "\n",
        "from tensorflow.keras.models import Sequential\n",
        "from tensorflow.keras.layers import InputLayer\n",
        "from tensorflow.keras.layers import Dense\n",
        "\n",
        "model = Sequential()\n",
        "\n",
        "#input layer\n",
        "model.add(InputLayer(input_shape=(x_train.shape[1],)))\n",
        "\n",
        "#hidden layer\n",
        "model.add(Dense(10,activation=\"relu\"))\n",
        "\n",
        "#output layer\n",
        "model.add(Dense(6,activation=\"softmax\"))\n"
      ],
      "metadata": {
        "colab": {
          "base_uri": "https://localhost:8080/"
        },
        "id": "YwItASxHFf6b",
        "outputId": "2a1231f9-ed54-4935-b82f-fc1d73ef0ce1"
      },
      "execution_count": 88,
      "outputs": [
        {
          "output_type": "stream",
          "name": "stderr",
          "text": [
            "/usr/local/lib/python3.10/dist-packages/keras/src/layers/core/input_layer.py:26: UserWarning: Argument `input_shape` is deprecated. Use `shape` instead.\n",
            "  warnings.warn(\n"
          ]
        }
      ]
    },
    {
      "cell_type": "code",
      "source": [
        "#compiling the model specifying the loss, optimizer and metrics\n",
        "model.compile(loss='categorical_crossentropy',optimizer='adam',metrics=['accuracy'])"
      ],
      "metadata": {
        "id": "rkWDhvTOHVay"
      },
      "execution_count": 89,
      "outputs": []
    },
    {
      "cell_type": "code",
      "source": [
        "# Training the model\n",
        "model.fit(x_train,y_train,epochs=80,batch_size=12,verbose=1)"
      ],
      "metadata": {
        "colab": {
          "base_uri": "https://localhost:8080/"
        },
        "id": "PToynQdQI631",
        "outputId": "42454f7e-9075-455d-82de-fd3f3a7da330"
      },
      "execution_count": 92,
      "outputs": [
        {
          "output_type": "stream",
          "name": "stdout",
          "text": [
            "Epoch 1/80\n",
            "\u001b[1m649/649\u001b[0m \u001b[32m━━━━━━━━━━━━━━━━━━━━\u001b[0m\u001b[37m\u001b[0m \u001b[1m1s\u001b[0m 2ms/step - accuracy: 0.7972 - loss: 0.5159\n",
            "Epoch 2/80\n",
            "\u001b[1m649/649\u001b[0m \u001b[32m━━━━━━━━━━━━━━━━━━━━\u001b[0m\u001b[37m\u001b[0m \u001b[1m1s\u001b[0m 2ms/step - accuracy: 0.8414 - loss: 0.4602\n",
            "Epoch 3/80\n",
            "\u001b[1m649/649\u001b[0m \u001b[32m━━━━━━━━━━━━━━━━━━━━\u001b[0m\u001b[37m\u001b[0m \u001b[1m1s\u001b[0m 2ms/step - accuracy: 0.8659 - loss: 0.4300\n",
            "Epoch 4/80\n",
            "\u001b[1m649/649\u001b[0m \u001b[32m━━━━━━━━━━━━━━━━━━━━\u001b[0m\u001b[37m\u001b[0m \u001b[1m3s\u001b[0m 2ms/step - accuracy: 0.8675 - loss: 0.4070\n",
            "Epoch 5/80\n",
            "\u001b[1m649/649\u001b[0m \u001b[32m━━━━━━━━━━━━━━━━━━━━\u001b[0m\u001b[37m\u001b[0m \u001b[1m2s\u001b[0m 1ms/step - accuracy: 0.8900 - loss: 0.3745\n",
            "Epoch 6/80\n",
            "\u001b[1m649/649\u001b[0m \u001b[32m━━━━━━━━━━━━━━━━━━━━\u001b[0m\u001b[37m\u001b[0m \u001b[1m1s\u001b[0m 2ms/step - accuracy: 0.8952 - loss: 0.3551\n",
            "Epoch 7/80\n",
            "\u001b[1m649/649\u001b[0m \u001b[32m━━━━━━━━━━━━━━━━━━━━\u001b[0m\u001b[37m\u001b[0m \u001b[1m1s\u001b[0m 1ms/step - accuracy: 0.9016 - loss: 0.3371\n",
            "Epoch 8/80\n",
            "\u001b[1m649/649\u001b[0m \u001b[32m━━━━━━━━━━━━━━━━━━━━\u001b[0m\u001b[37m\u001b[0m \u001b[1m1s\u001b[0m 2ms/step - accuracy: 0.9100 - loss: 0.3227\n",
            "Epoch 9/80\n",
            "\u001b[1m649/649\u001b[0m \u001b[32m━━━━━━━━━━━━━━━━━━━━\u001b[0m\u001b[37m\u001b[0m \u001b[1m1s\u001b[0m 2ms/step - accuracy: 0.9183 - loss: 0.3050\n",
            "Epoch 10/80\n",
            "\u001b[1m649/649\u001b[0m \u001b[32m━━━━━━━━━━━━━━━━━━━━\u001b[0m\u001b[37m\u001b[0m \u001b[1m1s\u001b[0m 2ms/step - accuracy: 0.9097 - loss: 0.3023\n",
            "Epoch 11/80\n",
            "\u001b[1m649/649\u001b[0m \u001b[32m━━━━━━━━━━━━━━━━━━━━\u001b[0m\u001b[37m\u001b[0m \u001b[1m1s\u001b[0m 1ms/step - accuracy: 0.9263 - loss: 0.2769\n",
            "Epoch 12/80\n",
            "\u001b[1m649/649\u001b[0m \u001b[32m━━━━━━━━━━━━━━━━━━━━\u001b[0m\u001b[37m\u001b[0m \u001b[1m1s\u001b[0m 2ms/step - accuracy: 0.9255 - loss: 0.2650\n",
            "Epoch 13/80\n",
            "\u001b[1m649/649\u001b[0m \u001b[32m━━━━━━━━━━━━━━━━━━━━\u001b[0m\u001b[37m\u001b[0m \u001b[1m2s\u001b[0m 2ms/step - accuracy: 0.9306 - loss: 0.2604\n",
            "Epoch 14/80\n",
            "\u001b[1m649/649\u001b[0m \u001b[32m━━━━━━━━━━━━━━━━━━━━\u001b[0m\u001b[37m\u001b[0m \u001b[1m2s\u001b[0m 2ms/step - accuracy: 0.9365 - loss: 0.2459\n",
            "Epoch 15/80\n",
            "\u001b[1m649/649\u001b[0m \u001b[32m━━━━━━━━━━━━━━━━━━━━\u001b[0m\u001b[37m\u001b[0m \u001b[1m1s\u001b[0m 2ms/step - accuracy: 0.9346 - loss: 0.2363\n",
            "Epoch 16/80\n",
            "\u001b[1m649/649\u001b[0m \u001b[32m━━━━━━━━━━━━━━━━━━━━\u001b[0m\u001b[37m\u001b[0m \u001b[1m1s\u001b[0m 2ms/step - accuracy: 0.9334 - loss: 0.2322\n",
            "Epoch 17/80\n",
            "\u001b[1m649/649\u001b[0m \u001b[32m━━━━━━━━━━━━━━━━━━━━\u001b[0m\u001b[37m\u001b[0m \u001b[1m1s\u001b[0m 2ms/step - accuracy: 0.9392 - loss: 0.2199\n",
            "Epoch 18/80\n",
            "\u001b[1m649/649\u001b[0m \u001b[32m━━━━━━━━━━━━━━━━━━━━\u001b[0m\u001b[37m\u001b[0m \u001b[1m1s\u001b[0m 1ms/step - accuracy: 0.9507 - loss: 0.2032\n",
            "Epoch 19/80\n",
            "\u001b[1m649/649\u001b[0m \u001b[32m━━━━━━━━━━━━━━━━━━━━\u001b[0m\u001b[37m\u001b[0m \u001b[1m1s\u001b[0m 2ms/step - accuracy: 0.9434 - loss: 0.2086\n",
            "Epoch 20/80\n",
            "\u001b[1m649/649\u001b[0m \u001b[32m━━━━━━━━━━━━━━━━━━━━\u001b[0m\u001b[37m\u001b[0m \u001b[1m1s\u001b[0m 2ms/step - accuracy: 0.9426 - loss: 0.2077\n",
            "Epoch 21/80\n",
            "\u001b[1m649/649\u001b[0m \u001b[32m━━━━━━━━━━━━━━━━━━━━\u001b[0m\u001b[37m\u001b[0m \u001b[1m1s\u001b[0m 1ms/step - accuracy: 0.9473 - loss: 0.1975\n",
            "Epoch 22/80\n",
            "\u001b[1m649/649\u001b[0m \u001b[32m━━━━━━━━━━━━━━━━━━━━\u001b[0m\u001b[37m\u001b[0m \u001b[1m2s\u001b[0m 2ms/step - accuracy: 0.9473 - loss: 0.1907\n",
            "Epoch 23/80\n",
            "\u001b[1m649/649\u001b[0m \u001b[32m━━━━━━━━━━━━━━━━━━━━\u001b[0m\u001b[37m\u001b[0m \u001b[1m2s\u001b[0m 2ms/step - accuracy: 0.9503 - loss: 0.1900\n",
            "Epoch 24/80\n",
            "\u001b[1m649/649\u001b[0m \u001b[32m━━━━━━━━━━━━━━━━━━━━\u001b[0m\u001b[37m\u001b[0m \u001b[1m1s\u001b[0m 2ms/step - accuracy: 0.9450 - loss: 0.1894\n",
            "Epoch 25/80\n",
            "\u001b[1m649/649\u001b[0m \u001b[32m━━━━━━━━━━━━━━━━━━━━\u001b[0m\u001b[37m\u001b[0m \u001b[1m1s\u001b[0m 2ms/step - accuracy: 0.9481 - loss: 0.1788\n",
            "Epoch 26/80\n",
            "\u001b[1m649/649\u001b[0m \u001b[32m━━━━━━━━━━━━━━━━━━━━\u001b[0m\u001b[37m\u001b[0m \u001b[1m1s\u001b[0m 2ms/step - accuracy: 0.9469 - loss: 0.1763\n",
            "Epoch 27/80\n",
            "\u001b[1m649/649\u001b[0m \u001b[32m━━━━━━━━━━━━━━━━━━━━\u001b[0m\u001b[37m\u001b[0m \u001b[1m1s\u001b[0m 2ms/step - accuracy: 0.9557 - loss: 0.1686\n",
            "Epoch 28/80\n",
            "\u001b[1m649/649\u001b[0m \u001b[32m━━━━━━━━━━━━━━━━━━━━\u001b[0m\u001b[37m\u001b[0m \u001b[1m1s\u001b[0m 2ms/step - accuracy: 0.9546 - loss: 0.1676\n",
            "Epoch 29/80\n",
            "\u001b[1m649/649\u001b[0m \u001b[32m━━━━━━━━━━━━━━━━━━━━\u001b[0m\u001b[37m\u001b[0m \u001b[1m1s\u001b[0m 2ms/step - accuracy: 0.9576 - loss: 0.1641\n",
            "Epoch 30/80\n",
            "\u001b[1m649/649\u001b[0m \u001b[32m━━━━━━━━━━━━━━━━━━━━\u001b[0m\u001b[37m\u001b[0m \u001b[1m1s\u001b[0m 1ms/step - accuracy: 0.9493 - loss: 0.1697\n",
            "Epoch 31/80\n",
            "\u001b[1m649/649\u001b[0m \u001b[32m━━━━━━━━━━━━━━━━━━━━\u001b[0m\u001b[37m\u001b[0m \u001b[1m1s\u001b[0m 2ms/step - accuracy: 0.9595 - loss: 0.1538\n",
            "Epoch 32/80\n",
            "\u001b[1m649/649\u001b[0m \u001b[32m━━━━━━━━━━━━━━━━━━━━\u001b[0m\u001b[37m\u001b[0m \u001b[1m2s\u001b[0m 2ms/step - accuracy: 0.9512 - loss: 0.1649\n",
            "Epoch 33/80\n",
            "\u001b[1m649/649\u001b[0m \u001b[32m━━━━━━━━━━━━━━━━━━━━\u001b[0m\u001b[37m\u001b[0m \u001b[1m2s\u001b[0m 3ms/step - accuracy: 0.9608 - loss: 0.1520\n",
            "Epoch 34/80\n",
            "\u001b[1m649/649\u001b[0m \u001b[32m━━━━━━━━━━━━━━━━━━━━\u001b[0m\u001b[37m\u001b[0m \u001b[1m2s\u001b[0m 2ms/step - accuracy: 0.9567 - loss: 0.1562\n",
            "Epoch 35/80\n",
            "\u001b[1m649/649\u001b[0m \u001b[32m━━━━━━━━━━━━━━━━━━━━\u001b[0m\u001b[37m\u001b[0m \u001b[1m1s\u001b[0m 2ms/step - accuracy: 0.9586 - loss: 0.1469\n",
            "Epoch 36/80\n",
            "\u001b[1m649/649\u001b[0m \u001b[32m━━━━━━━━━━━━━━━━━━━━\u001b[0m\u001b[37m\u001b[0m \u001b[1m1s\u001b[0m 2ms/step - accuracy: 0.9611 - loss: 0.1467\n",
            "Epoch 37/80\n",
            "\u001b[1m649/649\u001b[0m \u001b[32m━━━━━━━━━━━━━━━━━━━━\u001b[0m\u001b[37m\u001b[0m \u001b[1m1s\u001b[0m 2ms/step - accuracy: 0.9553 - loss: 0.1426\n",
            "Epoch 38/80\n",
            "\u001b[1m649/649\u001b[0m \u001b[32m━━━━━━━━━━━━━━━━━━━━\u001b[0m\u001b[37m\u001b[0m \u001b[1m1s\u001b[0m 1ms/step - accuracy: 0.9511 - loss: 0.1550\n",
            "Epoch 39/80\n",
            "\u001b[1m649/649\u001b[0m \u001b[32m━━━━━━━━━━━━━━━━━━━━\u001b[0m\u001b[37m\u001b[0m \u001b[1m1s\u001b[0m 2ms/step - accuracy: 0.9517 - loss: 0.1523\n",
            "Epoch 40/80\n",
            "\u001b[1m649/649\u001b[0m \u001b[32m━━━━━━━━━━━━━━━━━━━━\u001b[0m\u001b[37m\u001b[0m \u001b[1m1s\u001b[0m 2ms/step - accuracy: 0.9603 - loss: 0.1377\n",
            "Epoch 41/80\n",
            "\u001b[1m649/649\u001b[0m \u001b[32m━━━━━━━━━━━━━━━━━━━━\u001b[0m\u001b[37m\u001b[0m \u001b[1m1s\u001b[0m 2ms/step - accuracy: 0.9584 - loss: 0.1394\n",
            "Epoch 42/80\n",
            "\u001b[1m649/649\u001b[0m \u001b[32m━━━━━━━━━━━━━━━━━━━━\u001b[0m\u001b[37m\u001b[0m \u001b[1m2s\u001b[0m 3ms/step - accuracy: 0.9597 - loss: 0.1394\n",
            "Epoch 43/80\n",
            "\u001b[1m649/649\u001b[0m \u001b[32m━━━━━━━━━━━━━━━━━━━━\u001b[0m\u001b[37m\u001b[0m \u001b[1m2s\u001b[0m 2ms/step - accuracy: 0.9557 - loss: 0.1378\n",
            "Epoch 44/80\n",
            "\u001b[1m649/649\u001b[0m \u001b[32m━━━━━━━━━━━━━━━━━━━━\u001b[0m\u001b[37m\u001b[0m \u001b[1m1s\u001b[0m 2ms/step - accuracy: 0.9590 - loss: 0.1363\n",
            "Epoch 45/80\n",
            "\u001b[1m649/649\u001b[0m \u001b[32m━━━━━━━━━━━━━━━━━━━━\u001b[0m\u001b[37m\u001b[0m \u001b[1m1s\u001b[0m 2ms/step - accuracy: 0.9547 - loss: 0.1467\n",
            "Epoch 46/80\n",
            "\u001b[1m649/649\u001b[0m \u001b[32m━━━━━━━━━━━━━━━━━━━━\u001b[0m\u001b[37m\u001b[0m \u001b[1m2s\u001b[0m 2ms/step - accuracy: 0.9627 - loss: 0.1258\n",
            "Epoch 47/80\n",
            "\u001b[1m649/649\u001b[0m \u001b[32m━━━━━━━━━━━━━━━━━━━━\u001b[0m\u001b[37m\u001b[0m \u001b[1m1s\u001b[0m 2ms/step - accuracy: 0.9661 - loss: 0.1287\n",
            "Epoch 48/80\n",
            "\u001b[1m649/649\u001b[0m \u001b[32m━━━━━━━━━━━━━━━━━━━━\u001b[0m\u001b[37m\u001b[0m \u001b[1m1s\u001b[0m 2ms/step - accuracy: 0.9550 - loss: 0.1383\n",
            "Epoch 49/80\n",
            "\u001b[1m649/649\u001b[0m \u001b[32m━━━━━━━━━━━━━━━━━━━━\u001b[0m\u001b[37m\u001b[0m \u001b[1m1s\u001b[0m 1ms/step - accuracy: 0.9615 - loss: 0.1322\n",
            "Epoch 50/80\n",
            "\u001b[1m649/649\u001b[0m \u001b[32m━━━━━━━━━━━━━━━━━━━━\u001b[0m\u001b[37m\u001b[0m \u001b[1m1s\u001b[0m 1ms/step - accuracy: 0.9637 - loss: 0.1288\n",
            "Epoch 51/80\n",
            "\u001b[1m649/649\u001b[0m \u001b[32m━━━━━━━━━━━━━━━━━━━━\u001b[0m\u001b[37m\u001b[0m \u001b[1m2s\u001b[0m 2ms/step - accuracy: 0.9636 - loss: 0.1227\n",
            "Epoch 52/80\n",
            "\u001b[1m649/649\u001b[0m \u001b[32m━━━━━━━━━━━━━━━━━━━━\u001b[0m\u001b[37m\u001b[0m \u001b[1m2s\u001b[0m 3ms/step - accuracy: 0.9633 - loss: 0.1242\n",
            "Epoch 53/80\n",
            "\u001b[1m649/649\u001b[0m \u001b[32m━━━━━━━━━━━━━━━━━━━━\u001b[0m\u001b[37m\u001b[0m \u001b[1m2s\u001b[0m 2ms/step - accuracy: 0.9614 - loss: 0.1268\n",
            "Epoch 54/80\n",
            "\u001b[1m649/649\u001b[0m \u001b[32m━━━━━━━━━━━━━━━━━━━━\u001b[0m\u001b[37m\u001b[0m \u001b[1m1s\u001b[0m 2ms/step - accuracy: 0.9636 - loss: 0.1218\n",
            "Epoch 55/80\n",
            "\u001b[1m649/649\u001b[0m \u001b[32m━━━━━━━━━━━━━━━━━━━━\u001b[0m\u001b[37m\u001b[0m \u001b[1m1s\u001b[0m 2ms/step - accuracy: 0.9691 - loss: 0.1161\n",
            "Epoch 56/80\n",
            "\u001b[1m649/649\u001b[0m \u001b[32m━━━━━━━━━━━━━━━━━━━━\u001b[0m\u001b[37m\u001b[0m \u001b[1m1s\u001b[0m 2ms/step - accuracy: 0.9639 - loss: 0.1245\n",
            "Epoch 57/80\n",
            "\u001b[1m649/649\u001b[0m \u001b[32m━━━━━━━━━━━━━━━━━━━━\u001b[0m\u001b[37m\u001b[0m \u001b[1m1s\u001b[0m 1ms/step - accuracy: 0.9609 - loss: 0.1250\n",
            "Epoch 58/80\n",
            "\u001b[1m649/649\u001b[0m \u001b[32m━━━━━━━━━━━━━━━━━━━━\u001b[0m\u001b[37m\u001b[0m \u001b[1m1s\u001b[0m 2ms/step - accuracy: 0.9660 - loss: 0.1200\n",
            "Epoch 59/80\n",
            "\u001b[1m649/649\u001b[0m \u001b[32m━━━━━━━━━━━━━━━━━━━━\u001b[0m\u001b[37m\u001b[0m \u001b[1m1s\u001b[0m 2ms/step - accuracy: 0.9647 - loss: 0.1190\n",
            "Epoch 60/80\n",
            "\u001b[1m649/649\u001b[0m \u001b[32m━━━━━━━━━━━━━━━━━━━━\u001b[0m\u001b[37m\u001b[0m \u001b[1m1s\u001b[0m 2ms/step - accuracy: 0.9679 - loss: 0.1110\n",
            "Epoch 61/80\n",
            "\u001b[1m649/649\u001b[0m \u001b[32m━━━━━━━━━━━━━━━━━━━━\u001b[0m\u001b[37m\u001b[0m \u001b[1m2s\u001b[0m 2ms/step - accuracy: 0.9646 - loss: 0.1153\n",
            "Epoch 62/80\n",
            "\u001b[1m649/649\u001b[0m \u001b[32m━━━━━━━━━━━━━━━━━━━━\u001b[0m\u001b[37m\u001b[0m \u001b[1m2s\u001b[0m 2ms/step - accuracy: 0.9637 - loss: 0.1151\n",
            "Epoch 63/80\n",
            "\u001b[1m649/649\u001b[0m \u001b[32m━━━━━━━━━━━━━━━━━━━━\u001b[0m\u001b[37m\u001b[0m \u001b[1m1s\u001b[0m 2ms/step - accuracy: 0.9534 - loss: 0.1267\n",
            "Epoch 64/80\n",
            "\u001b[1m649/649\u001b[0m \u001b[32m━━━━━━━━━━━━━━━━━━━━\u001b[0m\u001b[37m\u001b[0m \u001b[1m1s\u001b[0m 2ms/step - accuracy: 0.9648 - loss: 0.1072\n",
            "Epoch 65/80\n",
            "\u001b[1m649/649\u001b[0m \u001b[32m━━━━━━━━━━━━━━━━━━━━\u001b[0m\u001b[37m\u001b[0m \u001b[1m1s\u001b[0m 2ms/step - accuracy: 0.9737 - loss: 0.1020\n",
            "Epoch 66/80\n",
            "\u001b[1m649/649\u001b[0m \u001b[32m━━━━━━━━━━━━━━━━━━━━\u001b[0m\u001b[37m\u001b[0m \u001b[1m1s\u001b[0m 2ms/step - accuracy: 0.9665 - loss: 0.1099\n",
            "Epoch 67/80\n",
            "\u001b[1m649/649\u001b[0m \u001b[32m━━━━━━━━━━━━━━━━━━━━\u001b[0m\u001b[37m\u001b[0m \u001b[1m1s\u001b[0m 2ms/step - accuracy: 0.9654 - loss: 0.1131\n",
            "Epoch 68/80\n",
            "\u001b[1m649/649\u001b[0m \u001b[32m━━━━━━━━━━━━━━━━━━━━\u001b[0m\u001b[37m\u001b[0m \u001b[1m1s\u001b[0m 2ms/step - accuracy: 0.9641 - loss: 0.1080\n",
            "Epoch 69/80\n",
            "\u001b[1m649/649\u001b[0m \u001b[32m━━━━━━━━━━━━━━━━━━━━\u001b[0m\u001b[37m\u001b[0m \u001b[1m1s\u001b[0m 2ms/step - accuracy: 0.9625 - loss: 0.1146\n",
            "Epoch 70/80\n",
            "\u001b[1m649/649\u001b[0m \u001b[32m━━━━━━━━━━━━━━━━━━━━\u001b[0m\u001b[37m\u001b[0m \u001b[1m2s\u001b[0m 2ms/step - accuracy: 0.9510 - loss: 0.1343\n",
            "Epoch 71/80\n",
            "\u001b[1m649/649\u001b[0m \u001b[32m━━━━━━━━━━━━━━━━━━━━\u001b[0m\u001b[37m\u001b[0m \u001b[1m3s\u001b[0m 2ms/step - accuracy: 0.9683 - loss: 0.1052\n",
            "Epoch 72/80\n",
            "\u001b[1m649/649\u001b[0m \u001b[32m━━━━━━━━━━━━━━━━━━━━\u001b[0m\u001b[37m\u001b[0m \u001b[1m2s\u001b[0m 2ms/step - accuracy: 0.9715 - loss: 0.1005\n",
            "Epoch 73/80\n",
            "\u001b[1m649/649\u001b[0m \u001b[32m━━━━━━━━━━━━━━━━━━━━\u001b[0m\u001b[37m\u001b[0m \u001b[1m1s\u001b[0m 2ms/step - accuracy: 0.9606 - loss: 0.1142\n",
            "Epoch 74/80\n",
            "\u001b[1m649/649\u001b[0m \u001b[32m━━━━━━━━━━━━━━━━━━━━\u001b[0m\u001b[37m\u001b[0m \u001b[1m1s\u001b[0m 2ms/step - accuracy: 0.9727 - loss: 0.0989\n",
            "Epoch 75/80\n",
            "\u001b[1m649/649\u001b[0m \u001b[32m━━━━━━━━━━━━━━━━━━━━\u001b[0m\u001b[37m\u001b[0m \u001b[1m1s\u001b[0m 2ms/step - accuracy: 0.9748 - loss: 0.0939\n",
            "Epoch 76/80\n",
            "\u001b[1m649/649\u001b[0m \u001b[32m━━━━━━━━━━━━━━━━━━━━\u001b[0m\u001b[37m\u001b[0m \u001b[1m1s\u001b[0m 2ms/step - accuracy: 0.9657 - loss: 0.1024\n",
            "Epoch 77/80\n",
            "\u001b[1m649/649\u001b[0m \u001b[32m━━━━━━━━━━━━━━━━━━━━\u001b[0m\u001b[37m\u001b[0m \u001b[1m1s\u001b[0m 2ms/step - accuracy: 0.9586 - loss: 0.1255\n",
            "Epoch 78/80\n",
            "\u001b[1m649/649\u001b[0m \u001b[32m━━━━━━━━━━━━━━━━━━━━\u001b[0m\u001b[37m\u001b[0m \u001b[1m1s\u001b[0m 2ms/step - accuracy: 0.9662 - loss: 0.1039\n",
            "Epoch 79/80\n",
            "\u001b[1m649/649\u001b[0m \u001b[32m━━━━━━━━━━━━━━━━━━━━\u001b[0m\u001b[37m\u001b[0m \u001b[1m2s\u001b[0m 2ms/step - accuracy: 0.9732 - loss: 0.0928\n",
            "Epoch 80/80\n",
            "\u001b[1m649/649\u001b[0m \u001b[32m━━━━━━━━━━━━━━━━━━━━\u001b[0m\u001b[37m\u001b[0m \u001b[1m2s\u001b[0m 3ms/step - accuracy: 0.9725 - loss: 0.0960\n"
          ]
        },
        {
          "output_type": "execute_result",
          "data": {
            "text/plain": [
              "<keras.src.callbacks.history.History at 0x7d10fcca6bc0>"
            ]
          },
          "metadata": {},
          "execution_count": 92
        }
      ]
    },
    {
      "cell_type": "code",
      "source": [
        "#evaluating the model\n",
        "loss,acc = model.evaluate(x_test,y_test,verbose=0)\n",
        "print(\"Loss\",loss,\"Accuracy\",acc)"
      ],
      "metadata": {
        "colab": {
          "base_uri": "https://localhost:8080/"
        },
        "id": "oLM2VwsHJ412",
        "outputId": "79fc792e-7b08-4670-eb3e-370d0dc66a3b"
      },
      "execution_count": 93,
      "outputs": [
        {
          "output_type": "stream",
          "name": "stdout",
          "text": [
            "Loss 0.1939627230167389 Accuracy 0.9354375600814819\n"
          ]
        }
      ]
    },
    {
      "cell_type": "code",
      "source": [
        "import numpy as np\n",
        "y_estimate = model.predict(x_test,verbose=0)\n",
        "print(y_estimate)\n",
        "y_estimate = np.argmax(y_estimate,axis=1)\n",
        "print(y_estimate)\n",
        "\n"
      ],
      "metadata": {
        "colab": {
          "base_uri": "https://localhost:8080/"
        },
        "id": "rlGbTY3oMSVS",
        "outputId": "82591b01-3f3e-4040-88f1-e9caebe34153"
      },
      "execution_count": 94,
      "outputs": [
        {
          "output_type": "stream",
          "name": "stdout",
          "text": [
            "[[2.7077717e-12 1.8278463e-02 4.4192646e-08 9.8172146e-01 7.8156714e-35\n",
            "  3.0321792e-19]\n",
            " [0.0000000e+00 9.6030679e-05 9.8752820e-01 2.4657023e-24 1.3753022e-09\n",
            "  1.2375669e-02]\n",
            " [0.0000000e+00 1.1452672e-07 9.6623427e-01 3.4259106e-23 6.7284706e-11\n",
            "  3.3765595e-02]\n",
            " ...\n",
            " [0.0000000e+00 5.3536809e-08 1.7071810e-01 1.8030110e-32 3.4058754e-05\n",
            "  8.2924783e-01]\n",
            " [0.0000000e+00 8.1521851e-01 1.8478143e-01 5.8739225e-10 7.3895265e-19\n",
            "  8.4499106e-08]\n",
            " [7.1368297e-37 9.7513473e-01 2.4864381e-02 9.4782359e-07 1.2182517e-20\n",
            "  2.8458413e-09]]\n",
            "[3 2 2 ... 5 1 1]\n"
          ]
        }
      ]
    },
    {
      "cell_type": "code",
      "source": [
        "import numpy as np\n",
        "def get_air_quality_label(y_estimate_label, int_mapping):\n",
        "  for label, index in int_mapping.items():\n",
        "    if index == y_estimate_label:\n",
        "      return label\n",
        "  return None\n",
        "\n",
        "#First row\n",
        "new_data = x_test.iloc[[5]]\n",
        "print(\"Data to predict label from :\")\n",
        "print(new_data)\n",
        "\n",
        "\n",
        "#prediction process\n",
        "y_estimate_new = model.predict(new_data, verbose=0)\n",
        "\n",
        "#fetching index of label\n",
        "y_estimate_new = np.argmax(y_estimate_new, axis=1)[0]  #\n",
        "print(\"Predicted label value:\", y_estimate_new)\n",
        "\n",
        "# Fetch the label name using the function\n",
        "label_name = get_air_quality_label(y_estimate_new, int_mapping)\n",
        "\n",
        "# Print the predicted label name\n",
        "print(\"Predicted Air Quality label:\", label_name)\n"
      ],
      "metadata": {
        "colab": {
          "base_uri": "https://localhost:8080/"
        },
        "id": "UKfXhLOKNKf_",
        "outputId": "497e369c-1e6d-4c80-f1ea-eedf804d46de"
      },
      "execution_count": 101,
      "outputs": [
        {
          "output_type": "stream",
          "name": "stdout",
          "text": [
            "Data to predict label from :\n",
            "   PM2.5    PM10    NO   NO2    NOx    NH3    CO   SO2     O3  Benzene  \\\n",
            "5  73.18  149.61  3.91  46.1  26.91  12.02  0.61  8.93  43.56     3.39   \n",
            "\n",
            "   Toluene  Xylene    AQI  \n",
            "5    25.34    2.22  153.0  \n",
            "Predicted label value: 1\n",
            "Predicted Air Quality label: Moderate\n"
          ]
        }
      ]
    },
    {
      "cell_type": "code",
      "source": [
        "#Classification Report\n",
        "import  numpy as np\n",
        "from sklearn.metrics import classification_report\n",
        "y_estimate = model.predict(x_test)\n",
        "y_estimate = np.argmax(y_estimate, axis=1)\n",
        "y_true = np.argmax(y_test, axis=1)\n",
        "print(classification_report(y_true, y_estimate))"
      ],
      "metadata": {
        "colab": {
          "base_uri": "https://localhost:8080/"
        },
        "id": "KP9thJBVL2xZ",
        "outputId": "93dbf619-6e4f-49b7-92b4-26afd608ee30"
      },
      "execution_count": 102,
      "outputs": [
        {
          "output_type": "stream",
          "name": "stdout",
          "text": [
            "\u001b[1m44/44\u001b[0m \u001b[32m━━━━━━━━━━━━━━━━━━━━\u001b[0m\u001b[37m\u001b[0m \u001b[1m0s\u001b[0m 1ms/step\n",
            "              precision    recall  f1-score   support\n",
            "\n",
            "           0       0.99      0.99      0.99       100\n",
            "           1       1.00      0.91      0.95       508\n",
            "           2       0.78      0.88      0.83       172\n",
            "           3       1.00      1.00      1.00       452\n",
            "           4       0.63      0.97      0.77        37\n",
            "           5       0.83      0.83      0.83       125\n",
            "\n",
            "    accuracy                           0.94      1394\n",
            "   macro avg       0.87      0.93      0.89      1394\n",
            "weighted avg       0.94      0.94      0.94      1394\n",
            "\n"
          ]
        }
      ]
    }
  ]
}